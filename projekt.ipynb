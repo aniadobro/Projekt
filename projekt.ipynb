{
  "nbformat": 4,
  "nbformat_minor": 0,
  "metadata": {
    "accelerator": "GPU",
    "colab": {
      "name": "projekt.ipynb",
      "provenance": [],
      "collapsed_sections": []
    },
    "kernelspec": {
      "display_name": "Python 3",
      "name": "python3"
    }
  },
  "cells": [
    {
      "cell_type": "markdown",
      "metadata": {
        "id": "9TnJztDZGw-n"
      },
      "source": [
        "# PolEval task1"
      ]
    },
    {
      "cell_type": "markdown",
      "metadata": {
        "id": "_2VQo4bajwUU"
      },
      "source": [
        "## Wczytanie potrzebnych bibliotek i funkcja plot_graphs"
      ]
    },
    {
      "cell_type": "code",
      "metadata": {
        "id": "z682XYsrjkY9"
      },
      "source": [
        "import numpy as np\n",
        "\n",
        "import tensorflow_datasets as tfds\n",
        "import tensorflow as tf\n",
        "\n",
        "tfds.disable_progress_bar()"
      ],
      "execution_count": null,
      "outputs": []
    },
    {
      "cell_type": "code",
      "metadata": {
        "id": "Mp1Z7P9pYRSK"
      },
      "source": [
        "import matplotlib.pyplot as plt\n",
        "\n",
        "\n",
        "def plot_graphs(history, metric):\n",
        "  plt.plot(history.history[metric])\n",
        "  plt.plot(history.history['val_'+metric], '')\n",
        "  plt.xlabel(\"Epochs\")\n",
        "  plt.ylabel(metric)\n",
        "  plt.legend([metric, 'val_'+metric])"
      ],
      "execution_count": null,
      "outputs": []
    },
    {
      "cell_type": "markdown",
      "metadata": {
        "id": "pRmMubr0jrE2"
      },
      "source": [
        "## Edycja danych wejściowych\n",
        "\n",
        "\n",
        "Zmieniam pliki na datasety, które mają w sobie pary tensorów, jeden typu string drugi typu int"
      ]
    },
    {
      "cell_type": "code",
      "metadata": {
        "id": "_CRlICIa4YiJ"
      },
      "source": [
        "tags = open(\"/content/training_set_clean_only_tags.txt\", encoding='utf8')\n",
        "texts = open(\"/content/training_set_clean_only_text.txt\", encoding='utf8')\n",
        "\n",
        "\n",
        "dataset1 = tf.data.Dataset.from_tensor_slices(texts.readlines())\n",
        "dataset2 = tf.data.Dataset.from_tensor_slices([ int(x) for x in tags.readlines()])\n",
        "\n",
        "texts.close()\n",
        "tags.close()\n",
        "\n",
        "dataset = tf.data.Dataset.zip((dataset1, dataset2))\n",
        "dataset\n",
        "\n",
        "\n",
        "tags = open(\"/content/test_set_clean_only_tags.txt\", encoding='utf8')\n",
        "texts = open(\"/content/test_set_clean_only_text.txt\", encoding='utf8')\n",
        "\n",
        "\n",
        "dataset1_test = tf.data.Dataset.from_tensor_slices(texts.readlines())\n",
        "dataset2_test = tf.data.Dataset.from_tensor_slices([ int(x) for x in tags.readlines()])\n",
        "\n",
        "texts.close()\n",
        "tags.close()\n",
        "\n",
        "dataset_test = tf.data.Dataset.zip((dataset1_test, dataset2_test))\n"
      ],
      "execution_count": null,
      "outputs": []
    },
    {
      "cell_type": "code",
      "metadata": {
        "id": "vd4_BGKyurao",
        "colab": {
          "base_uri": "https://localhost:8080/"
        },
        "outputId": "bd1f4060-92fc-4a25-a9a3-111293abb206"
      },
      "source": [
        "for example, label in dataset.take(3):\n",
        "  print('text: ', example.numpy())\n",
        "  print('label: ', label.numpy())"
      ],
      "execution_count": null,
      "outputs": [
        {
          "output_type": "stream",
          "name": "stdout",
          "text": [
            "text:  b'Dla mnie faworytem do tytu\\xc5\\x82u b\\xc4\\x99dzie Cracovia. Zobaczymy, czy typ si\\xc4\\x99 sprawdzi.\\n'\n",
            "label:  0\n",
            "text:  b'@anonymized_account @anonymized_account Brawo ty Daria kibic ma by\\xc4\\x87 na dobre i z\\xc5\\x82e\\n'\n",
            "label:  0\n",
            "text:  b'@anonymized_account @anonymized_account Super, polski premier sk\\xc5\\x82ada kwiaty na grobach kolaborant\\xc3\\xb3w. Ale doczekali\\xc5\\x9bmy czas\\xc3\\xb3w.\\n'\n",
            "label:  0\n"
          ]
        }
      ]
    },
    {
      "cell_type": "markdown",
      "metadata": {
        "id": "hMCtIe3wt_Cc"
      },
      "source": [
        "Zmiana nazwy datasetu:"
      ]
    },
    {
      "cell_type": "code",
      "metadata": {
        "id": "LrbX_OQu9_2F"
      },
      "source": [
        "train_dataset = dataset\n",
        "test_dataset = dataset_test"
      ],
      "execution_count": null,
      "outputs": []
    },
    {
      "cell_type": "markdown",
      "metadata": {
        "id": "wB5C-1rovDvj"
      },
      "source": [
        "Tworzenie batchów i shuffle:"
      ]
    },
    {
      "cell_type": "code",
      "metadata": {
        "id": "dDsCaZCDYZgm"
      },
      "source": [
        "BUFFER_SIZE = 10000\n",
        "BATCH_SIZE = 32"
      ],
      "execution_count": null,
      "outputs": []
    },
    {
      "cell_type": "code",
      "metadata": {
        "id": "VznrltNOnUc5"
      },
      "source": [
        "train_dataset = train_dataset.shuffle(BUFFER_SIZE).batch(BATCH_SIZE).prefetch(tf.data.AUTOTUNE)\n",
        "test_dataset = test_dataset.batch(BATCH_SIZE).prefetch(tf.data.AUTOTUNE)"
      ],
      "execution_count": null,
      "outputs": []
    },
    {
      "cell_type": "code",
      "metadata": {
        "id": "jqkvdcFv41wC",
        "colab": {
          "base_uri": "https://localhost:8080/"
        },
        "outputId": "b59974b2-8d27-4e40-9a18-3f1180bec765"
      },
      "source": [
        "for example, label in train_dataset.take(1):\n",
        "  print('texts: ', example.numpy()[:3])\n",
        "  print()\n",
        "  print('labels: ', label.numpy()[:3])"
      ],
      "execution_count": null,
      "outputs": [
        {
          "output_type": "stream",
          "name": "stdout",
          "text": [
            "texts:  [b'@anonymized_account Spokojnie w wielu klubach zatrudnia sie zawodnikow na podstawie opinii.A Ondrasek ma opinie solidnego napastnika \\xf0\\x9f\\x98\\x82\\n'\n",
            " b'@anonymized_account ej, dobra, we\\xc5\\xbamie ten chrzest czy nie? xd\\n'\n",
            " b'@anonymized_account W\\xc5\\x82a\\xc5\\x9bnie, trzeba Ipl\\xc4\\x99 wy\\xc5\\x82aczy\\xc4\\x87 \\xf0\\x9f\\x98\\x85\\n']\n",
            "\n",
            "labels:  [0 0 0]\n"
          ]
        }
      ]
    },
    {
      "cell_type": "markdown",
      "metadata": {
        "id": "s5eWCo88voPY"
      },
      "source": [
        "## Encoder"
      ]
    },
    {
      "cell_type": "code",
      "metadata": {
        "id": "uC25Lu1Yvuqy"
      },
      "source": [
        "VOCAB_SIZE = 1000\n",
        "encoder = tf.keras.layers.experimental.preprocessing.TextVectorization(\n",
        "    max_tokens=VOCAB_SIZE)\n",
        "encoder.adapt(train_dataset.map(lambda text, label: text))"
      ],
      "execution_count": null,
      "outputs": []
    },
    {
      "cell_type": "code",
      "metadata": {
        "id": "tBoyjjWg0Ac9",
        "colab": {
          "base_uri": "https://localhost:8080/"
        },
        "outputId": "5fcf896b-87ad-4836-921a-131c8b6a5fdf"
      },
      "source": [
        "vocab = np.array(encoder.get_vocabulary())\n",
        "vocab[:20]"
      ],
      "execution_count": null,
      "outputs": [
        {
          "output_type": "execute_result",
          "data": {
            "text/plain": [
              "array(['', '[UNK]', 'anonymizedaccount', 'nie', 'to', 'w', 'na', 'i',\n",
              "       'się', 'z', 'a', 'że', 'jak', 'jest', 'do', 'ale', 'co', 'o',\n",
              "       'tak', 'rt'], dtype='<U17')"
            ]
          },
          "metadata": {},
          "execution_count": 280
        }
      ]
    },
    {
      "cell_type": "code",
      "metadata": {
        "id": "RGc7C9WiwRWs",
        "colab": {
          "base_uri": "https://localhost:8080/"
        },
        "outputId": "1b926c25-c830-44f0-e04b-6c565f3c26c1"
      },
      "source": [
        "encoded_example = encoder(example)[:3].numpy()\n",
        "encoded_example"
      ],
      "execution_count": null,
      "outputs": [
        {
          "output_type": "execute_result",
          "data": {
            "text/plain": [
              "array([[  2, 405,   5,   1,   1,   1,  97,   1,   6, 884,   1,   1,  23,\n",
              "          1,   1,   1,  44,   0,   0,   0,   0,   0,   0],\n",
              "       [  2, 257, 184,   1,  42,   1,  25,   3,  64,   0,   0,   0,   0,\n",
              "          0,   0,   0,   0,   0,   0,   0,   0,   0,   0],\n",
              "       [  2, 138,  79,   1,   1,   1,   0,   0,   0,   0,   0,   0,   0,\n",
              "          0,   0,   0,   0,   0,   0,   0,   0,   0,   0]])"
            ]
          },
          "metadata": {},
          "execution_count": 281
        }
      ]
    },
    {
      "cell_type": "code",
      "metadata": {
        "id": "N_tD0QY5wXaK",
        "colab": {
          "base_uri": "https://localhost:8080/"
        },
        "outputId": "50817076-2949-44d1-fd8a-c545e92dfd23"
      },
      "source": [
        "for n in range(3):\n",
        "  print(\"Original: \", example[n].numpy())\n",
        "  print(\"Round-trip: \", \" \".join(vocab[encoded_example[n]]))\n",
        "  print()"
      ],
      "execution_count": null,
      "outputs": [
        {
          "output_type": "stream",
          "name": "stdout",
          "text": [
            "Original:  b'@anonymized_account Spokojnie w wielu klubach zatrudnia sie zawodnikow na podstawie opinii.A Ondrasek ma opinie solidnego napastnika \\xf0\\x9f\\x98\\x82\\n'\n",
            "Round-trip:  anonymizedaccount spokojnie w [UNK] [UNK] [UNK] sie [UNK] na podstawie [UNK] [UNK] ma [UNK] [UNK] [UNK] 😂      \n",
            "\n",
            "Original:  b'@anonymized_account ej, dobra, we\\xc5\\xbamie ten chrzest czy nie? xd\\n'\n",
            "Round-trip:  anonymizedaccount ej dobra [UNK] ten [UNK] czy nie xd              \n",
            "\n",
            "Original:  b'@anonymized_account W\\xc5\\x82a\\xc5\\x9bnie, trzeba Ipl\\xc4\\x99 wy\\xc5\\x82aczy\\xc4\\x87 \\xf0\\x9f\\x98\\x85\\n'\n",
            "Round-trip:  anonymizedaccount właśnie trzeba [UNK] [UNK] [UNK]                 \n",
            "\n"
          ]
        }
      ]
    },
    {
      "cell_type": "markdown",
      "metadata": {
        "id": "bjUqGVBxGw-t"
      },
      "source": [
        "## Model"
      ]
    },
    {
      "cell_type": "code",
      "metadata": {
        "id": "LwfoBkmRYcP3"
      },
      "source": [
        "model = tf.keras.Sequential([\n",
        "    encoder,\n",
        "    tf.keras.layers.Embedding(\n",
        "        input_dim=len(encoder.get_vocabulary()),\n",
        "        output_dim=128,\n",
        "        mask_zero=True),\n",
        "    tf.keras.layers.LSTM(64),\n",
        "    tf.keras.layers.Dense(128, activation='relu'),\n",
        "    tf.keras.layers.Dropout(0.5),\n",
        "    tf.keras.layers.Dense(1)\n",
        "])"
      ],
      "execution_count": null,
      "outputs": []
    },
    {
      "cell_type": "code",
      "metadata": {
        "id": "kj2xei41YZjC"
      },
      "source": [
        "model.compile(loss=tf.keras.losses.BinaryCrossentropy(from_logits=True),\n",
        "              optimizer=tf.keras.optimizers.Adam(1e-3),\n",
        "              metrics=['accuracy'])"
      ],
      "execution_count": null,
      "outputs": []
    },
    {
      "cell_type": "markdown",
      "metadata": {
        "id": "zIwH3nto596k"
      },
      "source": [
        "## Trenowanie modelu"
      ]
    },
    {
      "cell_type": "code",
      "metadata": {
        "id": "hw86wWS4YgR2",
        "colab": {
          "base_uri": "https://localhost:8080/"
        },
        "outputId": "f90d1696-6f55-45ea-f28f-193fff458c16"
      },
      "source": [
        "history = model.fit(train_dataset, epochs=20,\n",
        "                    validation_data=test_dataset,\n",
        "                    validation_steps=30)"
      ],
      "execution_count": null,
      "outputs": [
        {
          "output_type": "stream",
          "name": "stdout",
          "text": [
            "Epoch 1/20\n",
            "314/314 [==============================] - 12s 22ms/step - loss: 0.3038 - accuracy: 0.9152 - val_loss: 0.3434 - val_accuracy: 0.8719\n",
            "Epoch 2/20\n",
            "314/314 [==============================] - 5s 17ms/step - loss: 0.2305 - accuracy: 0.9173 - val_loss: 0.3658 - val_accuracy: 0.8719\n",
            "Epoch 3/20\n",
            "314/314 [==============================] - 6s 18ms/step - loss: 0.1936 - accuracy: 0.9227 - val_loss: 0.3760 - val_accuracy: 0.8771\n",
            "Epoch 4/20\n",
            "314/314 [==============================] - 6s 18ms/step - loss: 0.1777 - accuracy: 0.9289 - val_loss: 0.3772 - val_accuracy: 0.8792\n",
            "Epoch 5/20\n",
            "314/314 [==============================] - 6s 18ms/step - loss: 0.1557 - accuracy: 0.9364 - val_loss: 0.4341 - val_accuracy: 0.8677\n",
            "Epoch 6/20\n",
            "314/314 [==============================] - 6s 18ms/step - loss: 0.1427 - accuracy: 0.9431 - val_loss: 0.4472 - val_accuracy: 0.8719\n",
            "Epoch 7/20\n",
            "314/314 [==============================] - 6s 18ms/step - loss: 0.1248 - accuracy: 0.9504 - val_loss: 0.5214 - val_accuracy: 0.8687\n",
            "Epoch 8/20\n",
            "314/314 [==============================] - 6s 18ms/step - loss: 0.1137 - accuracy: 0.9549 - val_loss: 0.6302 - val_accuracy: 0.8615\n",
            "Epoch 9/20\n",
            "314/314 [==============================] - 6s 18ms/step - loss: 0.1047 - accuracy: 0.9586 - val_loss: 0.5915 - val_accuracy: 0.8573\n",
            "Epoch 10/20\n",
            "314/314 [==============================] - 6s 18ms/step - loss: 0.0971 - accuracy: 0.9606 - val_loss: 0.6805 - val_accuracy: 0.8604\n",
            "Epoch 11/20\n",
            "314/314 [==============================] - 6s 18ms/step - loss: 0.0853 - accuracy: 0.9654 - val_loss: 0.7594 - val_accuracy: 0.8583\n",
            "Epoch 12/20\n",
            "314/314 [==============================] - 6s 18ms/step - loss: 0.0821 - accuracy: 0.9674 - val_loss: 0.7744 - val_accuracy: 0.8583\n",
            "Epoch 13/20\n",
            "314/314 [==============================] - 6s 18ms/step - loss: 0.0772 - accuracy: 0.9691 - val_loss: 0.7305 - val_accuracy: 0.8490\n",
            "Epoch 14/20\n",
            "314/314 [==============================] - 6s 18ms/step - loss: 0.0675 - accuracy: 0.9735 - val_loss: 0.9130 - val_accuracy: 0.8531\n",
            "Epoch 15/20\n",
            "314/314 [==============================] - 6s 18ms/step - loss: 0.0648 - accuracy: 0.9753 - val_loss: 1.0247 - val_accuracy: 0.8604\n",
            "Epoch 16/20\n",
            "314/314 [==============================] - 6s 18ms/step - loss: 0.0655 - accuracy: 0.9731 - val_loss: 0.8990 - val_accuracy: 0.8562\n",
            "Epoch 17/20\n",
            "314/314 [==============================] - 5s 17ms/step - loss: 0.0587 - accuracy: 0.9763 - val_loss: 1.0112 - val_accuracy: 0.8510\n",
            "Epoch 18/20\n",
            "314/314 [==============================] - 6s 18ms/step - loss: 0.0487 - accuracy: 0.9806 - val_loss: 1.0666 - val_accuracy: 0.8500\n",
            "Epoch 19/20\n",
            "314/314 [==============================] - 6s 18ms/step - loss: 0.0484 - accuracy: 0.9805 - val_loss: 1.2151 - val_accuracy: 0.8406\n",
            "Epoch 20/20\n",
            "314/314 [==============================] - 6s 18ms/step - loss: 0.0507 - accuracy: 0.9805 - val_loss: 1.0568 - val_accuracy: 0.8250\n"
          ]
        }
      ]
    },
    {
      "cell_type": "code",
      "metadata": {
        "id": "OZmwt_mzaQJk",
        "colab": {
          "base_uri": "https://localhost:8080/",
          "height": 518
        },
        "outputId": "926d8371-d81f-4d55-8fad-45b323f9434d"
      },
      "source": [
        "plt.figure(figsize=(16, 8))\n",
        "plt.subplot(1, 2, 1)\n",
        "plot_graphs(history, 'accuracy')\n",
        "plot_graphs\n",
        "plt.ylim(None, 1)\n",
        "plt.subplot(1, 2, 2)\n",
        "plot_graphs(history, 'loss')\n",
        "plt.ylim(0, None)"
      ],
      "execution_count": null,
      "outputs": [
        {
          "output_type": "execute_result",
          "data": {
            "text/plain": [
              "(0.0, 1.2734082583338022)"
            ]
          },
          "metadata": {},
          "execution_count": 286
        },
        {
          "output_type": "display_data",
          "data": {
            "image/png": "[encoded data removed]",
            "text/plain": [
              "<Figure size 1152x576 with 2 Axes>"
            ]
          },
          "metadata": {
            "needs_background": "light"
          }
        }
      ]
    }
  ]
}