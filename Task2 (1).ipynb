{
  "nbformat": 4,
  "nbformat_minor": 0,
  "metadata": {
    "accelerator": "GPU",
    "colab": {
      "name": "Task2.ipynb",
      "provenance": [],
      "collapsed_sections": []
    },
    "kernelspec": {
      "display_name": "Python 3",
      "name": "python3"
    }
  },
  "cells": [
    {
      "cell_type": "markdown",
      "metadata": {
        "id": "9TnJztDZGw-n"
      },
      "source": [
        "# Task 2"
      ]
    },
    {
      "cell_type": "markdown",
      "metadata": {
        "id": "lUWearf0Gw-p"
      },
      "source": [
        "Program jest mniej więcej taki sam jak w zadaniu pierwszym z kilkoma różnicami"
      ]
    },
    {
      "cell_type": "markdown",
      "metadata": {
        "id": "_2VQo4bajwUU"
      },
      "source": [
        "## Wczytanie bibliotek i plot_graphs"
      ]
    },
    {
      "cell_type": "code",
      "metadata": {
        "id": "z682XYsrjkY9"
      },
      "source": [
        "import numpy as np\n",
        "\n",
        "import tensorflow_datasets as tfds\n",
        "import tensorflow as tf\n",
        "\n",
        "tfds.disable_progress_bar()"
      ],
      "execution_count": null,
      "outputs": []
    },
    {
      "cell_type": "code",
      "metadata": {
        "id": "Mp1Z7P9pYRSK"
      },
      "source": [
        "import matplotlib.pyplot as plt\n",
        "\n",
        "\n",
        "def plot_graphs(history, metric):\n",
        "  plt.plot(history.history[metric])\n",
        "  plt.plot(history.history['val_'+metric], '')\n",
        "  plt.xlabel(\"Epochs\")\n",
        "  plt.ylabel(metric)\n",
        "  plt.legend([metric, 'val_'+metric])"
      ],
      "execution_count": null,
      "outputs": []
    },
    {
      "cell_type": "markdown",
      "metadata": {
        "id": "pRmMubr0jrE2"
      },
      "source": [
        "## Edycja danych wejściowych\n",
        "\n",
        "\n",
        "w drugiej kolumnie datasetu zamiast tensora z 0 lub 1 jest tensor z trójką (1, 0, 0), (0, 1, 0) lub (0, 0, 1)\n"
      ]
    },
    {
      "cell_type": "code",
      "metadata": {
        "id": "_CRlICIa4YiJ"
      },
      "source": [
        "tags = open(\"/content/training_set_clean_only_tags.txt\", encoding='utf8')\n",
        "texts = open(\"/content/training_set_clean_only_text.txt\", encoding='utf8')\n",
        "\n",
        "def czydobre(i):\n",
        "  if (int(i)== 0):\n",
        "    return (1, 0, 0)\n",
        "  elif (int(i)==1):\n",
        "    return (0, 1, 0)\n",
        "  else:\n",
        "    return (0, 0 ,1)\n",
        "\n",
        "dataset1 = tf.data.Dataset.from_tensor_slices(texts.readlines())\n",
        "dataset2 = tf.data.Dataset.from_tensor_slices([ czydobre(x) for x in tags.readlines()])\n",
        "\n",
        "texts.close()\n",
        "tags.close()\n",
        "\n",
        "dataset = tf.data.Dataset.zip((dataset1, dataset2))\n",
        "dataset\n",
        "\n",
        "\n",
        "tags = open(\"/content/test_set_only_tags.txt\", encoding='utf8')\n",
        "texts = open(\"/content/test_set_only_text.txt\", encoding='utf8')\n",
        "\n",
        "\n",
        "\n",
        "dataset1_test = tf.data.Dataset.from_tensor_slices(texts.readlines())\n",
        "dataset2_test = tf.data.Dataset.from_tensor_slices([ czydobre(x) for x in tags.readlines()])\n",
        "\n",
        "texts.close()\n",
        "tags.close()\n",
        "\n",
        "dataset_test = tf.data.Dataset.zip((dataset1_test, dataset2_test))\n"
      ],
      "execution_count": null,
      "outputs": []
    },
    {
      "cell_type": "code",
      "metadata": {
        "id": "vd4_BGKyurao",
        "colab": {
          "base_uri": "https://localhost:8080/"
        },
        "outputId": "b06e0027-3d29-4547-bfdf-2519094c7390"
      },
      "source": [
        "for example, label in dataset.take(5):\n",
        "  print('text: ', example.numpy())\n",
        "  print('label: ', label.numpy())"
      ],
      "execution_count": null,
      "outputs": [
        {
          "output_type": "stream",
          "name": "stdout",
          "text": [
            "text:  b'Dla mnie faworytem do tytu\\xc5\\x82u b\\xc4\\x99dzie Cracovia. Zobaczymy, czy typ si\\xc4\\x99 sprawdzi.\\n'\n",
            "label:  [1 0 0]\n",
            "text:  b'@anonymized_account @anonymized_account Brawo ty Daria kibic ma by\\xc4\\x87 na dobre i z\\xc5\\x82e\\n'\n",
            "label:  [1 0 0]\n",
            "text:  b'@anonymized_account @anonymized_account Super, polski premier sk\\xc5\\x82ada kwiaty na grobach kolaborant\\xc3\\xb3w. Ale doczekali\\xc5\\x9bmy czas\\xc3\\xb3w.\\n'\n",
            "label:  [1 0 0]\n",
            "text:  b'@anonymized_account @anonymized_account Musi. Innej drogi nie mamy.\\n'\n",
            "label:  [1 0 0]\n",
            "text:  b'Odrzut natychmiastowy, kwa\\xc5\\x9bna mina, mam problem\\n'\n",
            "label:  [1 0 0]\n"
          ]
        }
      ]
    },
    {
      "cell_type": "code",
      "metadata": {
        "id": "LrbX_OQu9_2F"
      },
      "source": [
        "train_dataset = dataset\n",
        "test_dataset = dataset_test"
      ],
      "execution_count": null,
      "outputs": []
    },
    {
      "cell_type": "code",
      "metadata": {
        "id": "dDsCaZCDYZgm"
      },
      "source": [
        "BUFFER_SIZE = 10000\n",
        "BATCH_SIZE = 32"
      ],
      "execution_count": null,
      "outputs": []
    },
    {
      "cell_type": "code",
      "metadata": {
        "id": "VznrltNOnUc5"
      },
      "source": [
        "train_dataset = train_dataset.shuffle(BUFFER_SIZE).batch(BATCH_SIZE).prefetch(tf.data.AUTOTUNE)\n",
        "test_dataset = test_dataset.batch(BATCH_SIZE).prefetch(tf.data.AUTOTUNE)"
      ],
      "execution_count": null,
      "outputs": []
    },
    {
      "cell_type": "code",
      "metadata": {
        "id": "jqkvdcFv41wC",
        "colab": {
          "base_uri": "https://localhost:8080/"
        },
        "outputId": "ada2f1e5-8f46-4b9b-83d8-9f9748a53e4c"
      },
      "source": [
        "for example, label in train_dataset.take(1):\n",
        "  print('texts: ', example.numpy()[:3])\n",
        "  print()\n",
        "  print('labels: ', label.numpy()[:3])"
      ],
      "execution_count": null,
      "outputs": [
        {
          "output_type": "stream",
          "name": "stdout",
          "text": [
            "texts:  [b'Z ca\\xc5\\x82ym szacunkiem zayn, ale wzi\\xc4\\x85\\xc5\\x82by\\xc5\\x9b si\\xc4\\x99 za wydanie z2, a nie promowanie plecak\\xc3\\xb3w XD\\n'\n",
            " b'@anonymized_account masz na my\\xc5\\x9bli Mateusza Taudula ?:) @anonymized_account\\n'\n",
            " b'@anonymized_account Masz, \\xc5\\xbceby nie by\\xc5\\x82o, \\xc5\\xbce bez lajka \\xf0\\x9f\\x98\\x84\\n']\n",
            "\n",
            "labels:  [[1 0 0]\n",
            " [1 0 0]\n",
            " [1 0 0]]\n"
          ]
        }
      ]
    },
    {
      "cell_type": "markdown",
      "metadata": {
        "id": "s5eWCo88voPY"
      },
      "source": [
        "## Encoder"
      ]
    },
    {
      "cell_type": "markdown",
      "metadata": {
        "id": "TFevcItw15P_"
      },
      "source": [
        "Encoder taki sam"
      ]
    },
    {
      "cell_type": "code",
      "metadata": {
        "id": "uC25Lu1Yvuqy"
      },
      "source": [
        "VOCAB_SIZE = 1000\n",
        "encoder = tf.keras.layers.experimental.preprocessing.TextVectorization(\n",
        "    max_tokens=VOCAB_SIZE)\n",
        "encoder.adapt(train_dataset.map(lambda text, label: text))"
      ],
      "execution_count": null,
      "outputs": []
    },
    {
      "cell_type": "code",
      "metadata": {
        "id": "tBoyjjWg0Ac9",
        "colab": {
          "base_uri": "https://localhost:8080/"
        },
        "outputId": "141d5708-5b6b-4c28-ff03-2dc9b8d05357"
      },
      "source": [
        "vocab = np.array(encoder.get_vocabulary())\n",
        "vocab[:20]"
      ],
      "execution_count": null,
      "outputs": [
        {
          "output_type": "execute_result",
          "data": {
            "text/plain": [
              "array(['', '[UNK]', 'anonymizedaccount', 'nie', 'to', 'w', 'na', 'i',\n",
              "       'się', 'z', 'a', 'że', 'jak', 'jest', 'do', 'ale', 'co', 'o',\n",
              "       'tak', 'rt'], dtype='<U17')"
            ]
          },
          "metadata": {},
          "execution_count": 13
        }
      ]
    },
    {
      "cell_type": "code",
      "metadata": {
        "id": "RGc7C9WiwRWs",
        "colab": {
          "base_uri": "https://localhost:8080/"
        },
        "outputId": "43fb6703-a815-4bea-a346-fe8fafa03517"
      },
      "source": [
        "encoded_example = encoder(example)[:3].numpy()\n",
        "encoded_example"
      ],
      "execution_count": null,
      "outputs": [
        {
          "output_type": "execute_result",
          "data": {
            "text/plain": [
              "array([[  9, 663,   1,   1,  15,   1,   8,  20,   1,   1,  10,   3,   1,\n",
              "          1,  64,   0,   0,   0,   0,   0,   0,   0,   0,   0,   0],\n",
              "       [  2,  77,   6, 425,   1,   1,   2,   0,   0,   0,   0,   0,   0,\n",
              "          0,   0,   0,   0,   0,   0,   0,   0,   0,   0,   0,   0],\n",
              "       [  2,  77,  57,   3,  46,  11,  70,   1, 382,   0,   0,   0,   0,\n",
              "          0,   0,   0,   0,   0,   0,   0,   0,   0,   0,   0,   0]])"
            ]
          },
          "metadata": {},
          "execution_count": 14
        }
      ]
    },
    {
      "cell_type": "code",
      "metadata": {
        "id": "N_tD0QY5wXaK",
        "colab": {
          "base_uri": "https://localhost:8080/"
        },
        "outputId": "f96d32e8-73a5-4b01-f329-367bc39a1eec"
      },
      "source": [
        "for n in range(3):\n",
        "  print(\"Original: \", example[n].numpy())\n",
        "  print(\"Round-trip: \", \" \".join(vocab[encoded_example[n]]))\n",
        "  print()"
      ],
      "execution_count": null,
      "outputs": [
        {
          "output_type": "stream",
          "name": "stdout",
          "text": [
            "Original:  b'Z ca\\xc5\\x82ym szacunkiem zayn, ale wzi\\xc4\\x85\\xc5\\x82by\\xc5\\x9b si\\xc4\\x99 za wydanie z2, a nie promowanie plecak\\xc3\\xb3w XD\\n'\n",
            "Round-trip:  z całym [UNK] [UNK] ale [UNK] się za [UNK] [UNK] a nie [UNK] [UNK] xd          \n",
            "\n",
            "Original:  b'@anonymized_account masz na my\\xc5\\x9bli Mateusza Taudula ?:) @anonymized_account\\n'\n",
            "Round-trip:  anonymizedaccount masz na myśli [UNK] [UNK] anonymizedaccount                  \n",
            "\n",
            "Original:  b'@anonymized_account Masz, \\xc5\\xbceby nie by\\xc5\\x82o, \\xc5\\xbce bez lajka \\xf0\\x9f\\x98\\x84\\n'\n",
            "Round-trip:  anonymizedaccount masz żeby nie było że bez [UNK] 😄                \n",
            "\n"
          ]
        }
      ]
    },
    {
      "cell_type": "markdown",
      "metadata": {
        "id": "bjUqGVBxGw-t"
      },
      "source": [
        "## Model"
      ]
    },
    {
      "cell_type": "markdown",
      "metadata": {
        "id": "bgs6nnSTGw-t"
      },
      "source": [
        "model różni się tym, że na końcu ma 3 neurony zamisat jednego\n"
      ]
    },
    {
      "cell_type": "code",
      "metadata": {
        "id": "LwfoBkmRYcP3"
      },
      "source": [
        "model = tf.keras.Sequential([\n",
        "    encoder,\n",
        "    tf.keras.layers.Embedding(\n",
        "        input_dim=len(encoder.get_vocabulary()),\n",
        "        output_dim=64,\n",
        "        # Use masking to handle the variable sequence lengths\n",
        "        mask_zero=True),\n",
        "    tf.keras.layers.LSTM(128),\n",
        "    tf.keras.layers.Dropout(0.5),\n",
        "    tf.keras.layers.Dense(64, activation='relu'),\n",
        "    tf.keras.layers.Dropout(0.5),\n",
        "    tf.keras.layers.Dense(3)\n",
        "])"
      ],
      "execution_count": null,
      "outputs": []
    },
    {
      "cell_type": "code",
      "metadata": {
        "id": "kj2xei41YZjC"
      },
      "source": [
        "model.compile(loss=tf.keras.losses.BinaryCrossentropy(from_logits=True),\n",
        "              optimizer=tf.keras.optimizers.Adam(1e-4),\n",
        "              metrics=['accuracy'])"
      ],
      "execution_count": null,
      "outputs": []
    },
    {
      "cell_type": "markdown",
      "metadata": {
        "id": "zIwH3nto596k"
      },
      "source": [
        "## Trenowanie modelu"
      ]
    },
    {
      "cell_type": "markdown",
      "metadata": {
        "id": "pn4EfomYEqtx"
      },
      "source": [
        "Sieć uczy się wolniej ponieważ jest bardziej skomplikowana niż pierwsza"
      ]
    },
    {
      "cell_type": "code",
      "metadata": {
        "id": "hw86wWS4YgR2",
        "colab": {
          "base_uri": "https://localhost:8080/"
        },
        "outputId": "730e44a2-1a0f-42b6-bf17-159f668c3685"
      },
      "source": [
        "history = model.fit(train_dataset, epochs=50,\n",
        "                    validation_data=test_dataset,\n",
        "                    validation_steps=30)"
      ],
      "execution_count": null,
      "outputs": [
        {
          "output_type": "stream",
          "name": "stdout",
          "text": [
            "Epoch 1/50\n",
            "314/314 [==============================] - 17s 24ms/step - loss: 0.3943 - accuracy: 0.9037 - val_loss: 0.3234 - val_accuracy: 0.8708\n",
            "Epoch 2/50\n",
            "314/314 [==============================] - 6s 19ms/step - loss: 0.2521 - accuracy: 0.9152 - val_loss: 0.2974 - val_accuracy: 0.8708\n",
            "Epoch 3/50\n",
            "314/314 [==============================] - 6s 19ms/step - loss: 0.2408 - accuracy: 0.9152 - val_loss: 0.3026 - val_accuracy: 0.8708\n",
            "Epoch 4/50\n",
            "314/314 [==============================] - 6s 19ms/step - loss: 0.2327 - accuracy: 0.9152 - val_loss: 0.2901 - val_accuracy: 0.8708\n",
            "Epoch 5/50\n",
            "314/314 [==============================] - 6s 20ms/step - loss: 0.2314 - accuracy: 0.9152 - val_loss: 0.2936 - val_accuracy: 0.8708\n",
            "Epoch 6/50\n",
            "314/314 [==============================] - 6s 19ms/step - loss: 0.2261 - accuracy: 0.9152 - val_loss: 0.2930 - val_accuracy: 0.8708\n",
            "Epoch 7/50\n",
            "314/314 [==============================] - 6s 19ms/step - loss: 0.2218 - accuracy: 0.9152 - val_loss: 0.2854 - val_accuracy: 0.8708\n",
            "Epoch 8/50\n",
            "314/314 [==============================] - 6s 19ms/step - loss: 0.2088 - accuracy: 0.9152 - val_loss: 0.2694 - val_accuracy: 0.8719\n",
            "Epoch 9/50\n",
            "314/314 [==============================] - 6s 19ms/step - loss: 0.1923 - accuracy: 0.9151 - val_loss: 0.2677 - val_accuracy: 0.8698\n",
            "Epoch 10/50\n",
            "314/314 [==============================] - 6s 19ms/step - loss: 0.1775 - accuracy: 0.9159 - val_loss: 0.2920 - val_accuracy: 0.8729\n",
            "Epoch 11/50\n",
            "314/314 [==============================] - 6s 19ms/step - loss: 0.1716 - accuracy: 0.9166 - val_loss: 0.2734 - val_accuracy: 0.8687\n",
            "Epoch 12/50\n",
            "314/314 [==============================] - 6s 19ms/step - loss: 0.1644 - accuracy: 0.9165 - val_loss: 0.2816 - val_accuracy: 0.8687\n",
            "Epoch 13/50\n",
            "314/314 [==============================] - 6s 18ms/step - loss: 0.1587 - accuracy: 0.9173 - val_loss: 0.2788 - val_accuracy: 0.8677\n",
            "Epoch 14/50\n",
            "314/314 [==============================] - 6s 19ms/step - loss: 0.1570 - accuracy: 0.9165 - val_loss: 0.2840 - val_accuracy: 0.8708\n",
            "Epoch 15/50\n",
            "314/314 [==============================] - 6s 18ms/step - loss: 0.1525 - accuracy: 0.9172 - val_loss: 0.2823 - val_accuracy: 0.8687\n",
            "Epoch 16/50\n",
            "314/314 [==============================] - 6s 18ms/step - loss: 0.1517 - accuracy: 0.9168 - val_loss: 0.2916 - val_accuracy: 0.8719\n",
            "Epoch 17/50\n",
            "314/314 [==============================] - 6s 18ms/step - loss: 0.1473 - accuracy: 0.9187 - val_loss: 0.2876 - val_accuracy: 0.8719\n",
            "Epoch 18/50\n",
            "314/314 [==============================] - 6s 19ms/step - loss: 0.1472 - accuracy: 0.9184 - val_loss: 0.2912 - val_accuracy: 0.8729\n",
            "Epoch 19/50\n",
            "314/314 [==============================] - 6s 18ms/step - loss: 0.1443 - accuracy: 0.9192 - val_loss: 0.2895 - val_accuracy: 0.8729\n",
            "Epoch 20/50\n",
            "314/314 [==============================] - 6s 18ms/step - loss: 0.1451 - accuracy: 0.9190 - val_loss: 0.3016 - val_accuracy: 0.8698\n",
            "Epoch 21/50\n",
            "314/314 [==============================] - 6s 19ms/step - loss: 0.1419 - accuracy: 0.9192 - val_loss: 0.3061 - val_accuracy: 0.8729\n",
            "Epoch 22/50\n",
            "314/314 [==============================] - 6s 19ms/step - loss: 0.1399 - accuracy: 0.9178 - val_loss: 0.3170 - val_accuracy: 0.8740\n",
            "Epoch 23/50\n",
            "314/314 [==============================] - 6s 19ms/step - loss: 0.1402 - accuracy: 0.9189 - val_loss: 0.3024 - val_accuracy: 0.8708\n",
            "Epoch 24/50\n",
            "314/314 [==============================] - 6s 18ms/step - loss: 0.1380 - accuracy: 0.9225 - val_loss: 0.3113 - val_accuracy: 0.8698\n",
            "Epoch 25/50\n",
            "314/314 [==============================] - 6s 18ms/step - loss: 0.1363 - accuracy: 0.9224 - val_loss: 0.2916 - val_accuracy: 0.8573\n",
            "Epoch 26/50\n",
            "314/314 [==============================] - 6s 18ms/step - loss: 0.1328 - accuracy: 0.9229 - val_loss: 0.3175 - val_accuracy: 0.8594\n",
            "Epoch 27/50\n",
            "314/314 [==============================] - 6s 19ms/step - loss: 0.1308 - accuracy: 0.9235 - val_loss: 0.3172 - val_accuracy: 0.8542\n",
            "Epoch 28/50\n",
            "314/314 [==============================] - 6s 18ms/step - loss: 0.1281 - accuracy: 0.9248 - val_loss: 0.3259 - val_accuracy: 0.8594\n",
            "Epoch 29/50\n",
            "314/314 [==============================] - 6s 19ms/step - loss: 0.1261 - accuracy: 0.9239 - val_loss: 0.3431 - val_accuracy: 0.8542\n",
            "Epoch 30/50\n",
            "314/314 [==============================] - 6s 19ms/step - loss: 0.1255 - accuracy: 0.9257 - val_loss: 0.3276 - val_accuracy: 0.8542\n",
            "Epoch 31/50\n",
            "314/314 [==============================] - 6s 18ms/step - loss: 0.1227 - accuracy: 0.9256 - val_loss: 0.3670 - val_accuracy: 0.8646\n",
            "Epoch 32/50\n",
            "314/314 [==============================] - 6s 19ms/step - loss: 0.1231 - accuracy: 0.9271 - val_loss: 0.3618 - val_accuracy: 0.8615\n",
            "Epoch 33/50\n",
            "314/314 [==============================] - 6s 19ms/step - loss: 0.1230 - accuracy: 0.9282 - val_loss: 0.3721 - val_accuracy: 0.8646\n",
            "Epoch 34/50\n",
            "314/314 [==============================] - 6s 19ms/step - loss: 0.1191 - accuracy: 0.9298 - val_loss: 0.3514 - val_accuracy: 0.8521\n",
            "Epoch 35/50\n",
            "314/314 [==============================] - 6s 20ms/step - loss: 0.1182 - accuracy: 0.9296 - val_loss: 0.3608 - val_accuracy: 0.8542\n",
            "Epoch 36/50\n",
            "314/314 [==============================] - 6s 19ms/step - loss: 0.1161 - accuracy: 0.9311 - val_loss: 0.4056 - val_accuracy: 0.8594\n",
            "Epoch 37/50\n",
            "314/314 [==============================] - 6s 19ms/step - loss: 0.1158 - accuracy: 0.9315 - val_loss: 0.3991 - val_accuracy: 0.8604\n",
            "Epoch 38/50\n",
            "314/314 [==============================] - 6s 19ms/step - loss: 0.1139 - accuracy: 0.9302 - val_loss: 0.4015 - val_accuracy: 0.8594\n",
            "Epoch 39/50\n",
            "314/314 [==============================] - 6s 19ms/step - loss: 0.1136 - accuracy: 0.9310 - val_loss: 0.4220 - val_accuracy: 0.8646\n",
            "Epoch 40/50\n",
            "314/314 [==============================] - 6s 19ms/step - loss: 0.1111 - accuracy: 0.9336 - val_loss: 0.4412 - val_accuracy: 0.8646\n",
            "Epoch 41/50\n",
            "314/314 [==============================] - 6s 19ms/step - loss: 0.1116 - accuracy: 0.9331 - val_loss: 0.4070 - val_accuracy: 0.8500\n",
            "Epoch 42/50\n",
            "314/314 [==============================] - 6s 19ms/step - loss: 0.1106 - accuracy: 0.9339 - val_loss: 0.4210 - val_accuracy: 0.8573\n",
            "Epoch 43/50\n",
            "314/314 [==============================] - 6s 19ms/step - loss: 0.1100 - accuracy: 0.9336 - val_loss: 0.4212 - val_accuracy: 0.8542\n",
            "Epoch 44/50\n",
            "314/314 [==============================] - 6s 18ms/step - loss: 0.1080 - accuracy: 0.9343 - val_loss: 0.4379 - val_accuracy: 0.8542\n",
            "Epoch 45/50\n",
            "314/314 [==============================] - 6s 19ms/step - loss: 0.1078 - accuracy: 0.9340 - val_loss: 0.4219 - val_accuracy: 0.8469\n",
            "Epoch 46/50\n",
            "314/314 [==============================] - 6s 18ms/step - loss: 0.1059 - accuracy: 0.9361 - val_loss: 0.4574 - val_accuracy: 0.8521\n",
            "Epoch 47/50\n",
            "314/314 [==============================] - 6s 19ms/step - loss: 0.1074 - accuracy: 0.9348 - val_loss: 0.4641 - val_accuracy: 0.8542\n",
            "Epoch 48/50\n",
            "314/314 [==============================] - 6s 19ms/step - loss: 0.1055 - accuracy: 0.9342 - val_loss: 0.4652 - val_accuracy: 0.8583\n",
            "Epoch 49/50\n",
            "314/314 [==============================] - 6s 19ms/step - loss: 0.1049 - accuracy: 0.9380 - val_loss: 0.4270 - val_accuracy: 0.8354\n",
            "Epoch 50/50\n",
            "314/314 [==============================] - 6s 19ms/step - loss: 0.1044 - accuracy: 0.9354 - val_loss: 0.4780 - val_accuracy: 0.8531\n"
          ]
        }
      ]
    },
    {
      "cell_type": "code",
      "metadata": {
        "id": "OZmwt_mzaQJk",
        "colab": {
          "base_uri": "https://localhost:8080/",
          "height": 518
        },
        "outputId": "d543bb3b-b50c-4a71-ff55-f821a112e596"
      },
      "source": [
        "plt.figure(figsize=(16, 8))\n",
        "plt.subplot(1, 2, 1)\n",
        "plot_graphs(history, 'accuracy')\n",
        "plot_graphs\n",
        "plt.ylim(None, 1)\n",
        "plt.subplot(1, 2, 2)\n",
        "plot_graphs(history, 'loss')\n",
        "plt.ylim(0, None)"
      ],
      "execution_count": null,
      "outputs": [
        {
          "output_type": "execute_result",
          "data": {
            "text/plain": [
              "(0.0, 0.49666156284511087)"
            ]
          },
          "metadata": {},
          "execution_count": 21
        },
        {
          "output_type": "display_data",
          "data": {
            "image/png": "[encoded data removed]",
            "text/plain": [
              "<Figure size 1152x576 with 2 Axes>"
            ]
          },
          "metadata": {
            "needs_background": "light"
          }
        }
      ]
    }
  ]
}